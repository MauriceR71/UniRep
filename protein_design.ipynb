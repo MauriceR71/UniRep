{
  "nbformat": 4,
  "nbformat_minor": 0,
  "metadata": {
    "kernelspec": {
      "display_name": "Python 3",
      "language": "python",
      "name": "python3"
    },
    "language_info": {
      "codemirror_mode": {
        "name": "ipython",
        "version": 3
      },
      "file_extension": ".py",
      "mimetype": "text/x-python",
      "name": "python",
      "nbconvert_exporter": "python",
      "pygments_lexer": "ipython3",
      "version": "3.5.2"
    },
    "colab": {
      "name": "protein_design.ipynb",
      "provenance": [],
      "collapsed_sections": []
    }
  },
  "cells": [
    {
      "cell_type": "markdown",
      "metadata": {
        "id": "cszfTJ_Xa7Xj",
        "colab_type": "text"
      },
      "source": [
        "## How to use the UniRep mLSTM \"babbler\". This version demonstrates the 64-unit and the 1900-unit architecture. \n",
        "\n",
        "We recommend getting started with the 64-unit architecture as it is easier and faster to run, but has the same interface as the 1900-unit one."
      ]
    },
    {
      "cell_type": "markdown",
      "metadata": {
        "id": "fUDzostda7Xx",
        "colab_type": "text"
      },
      "source": [
        "Use the 64-unit or the 1900-unit model?"
      ]
    },
    {
      "cell_type": "code",
      "metadata": {
        "id": "XO3UpPHja7X2",
        "colab_type": "code",
        "colab": {}
      },
      "source": [
        "USE_FULL_1900_DIM_MODEL = False # if True use 1900 dimensional model, else use 64 dimensional one."
      ],
      "execution_count": 0,
      "outputs": []
    },
    {
      "cell_type": "markdown",
      "metadata": {
        "id": "oVmnJZg0a7YK",
        "colab_type": "text"
      },
      "source": [
        "## Setup"
      ]
    },
    {
      "cell_type": "code",
      "metadata": {
        "id": "ZKtNtge6a7YO",
        "colab_type": "code",
        "colab": {}
      },
      "source": [
        "import tensorflow as tf\n",
        "import numpy as np\n",
        "\n",
        "# Set seeds\n",
        "tf.set_random_seed(42)\n",
        "np.random.seed(42)\n",
        "\n",
        "if USE_FULL_1900_DIM_MODEL:\n",
        "    # Sync relevant weight files\n",
        "    !aws s3 sync --no-sign-request --quiet s3://unirep-public/1900_weights/ 1900_weights/\n",
        "    \n",
        "    # Import the mLSTM babbler model\n",
        "    from unirep import babbler1900 as babbler\n",
        "    \n",
        "    # Where model weights are stored.\n",
        "    MODEL_WEIGHT_PATH = \"./1900_weights\"\n",
        "    \n",
        "else:\n",
        "    # Sync relevant weight files\n",
        "    !aws s3 sync --no-sign-request --quiet s3://unirep-public/64_weights/ 64_weights/\n",
        "    \n",
        "    # Import the mLSTM babbler model\n",
        "    from unirep import babbler64 as babbler\n",
        "    \n",
        "    # Where model weights are stored.\n",
        "    MODEL_WEIGHT_PATH = \"./64_weights\""
      ],
      "execution_count": 0,
      "outputs": []
    },
    {
      "cell_type": "markdown",
      "metadata": {
        "id": "BrzHUSvUa7Ym",
        "colab_type": "text"
      },
      "source": [
        "## Data formatting and management"
      ]
    },
    {
      "cell_type": "markdown",
      "metadata": {
        "id": "YfGVLDfMa7Y0",
        "colab_type": "text"
      },
      "source": [
        "Initialize UniRep, also referred to as the \"babbler\" in our code. You need to provide the batch size you will use and the path to the weight directory."
      ]
    },
    {
      "cell_type": "code",
      "metadata": {
        "id": "2MizsFF4a7Y3",
        "colab_type": "code",
        "outputId": "84924bb6-60c3-400b-c4c9-b647aff20729",
        "colab": {}
      },
      "source": [
        "batch_size = 12\n",
        "b = babbler(batch_size=batch_size, model_path=MODEL_WEIGHT_PATH)"
      ],
      "execution_count": 0,
      "outputs": [
        {
          "output_type": "stream",
          "text": [
            "/usr/local/lib/python3.5/dist-packages/h5py/__init__.py:34: FutureWarning: Conversion of the second argument of issubdtype from `float` to `np.floating` is deprecated. In future, it will be treated as `np.float64 == np.dtype(float).type`.\n",
            "  from ._conv import register_converters as _register_converters\n"
          ],
          "name": "stderr"
        }
      ]
    },
    {
      "cell_type": "markdown",
      "metadata": {
        "id": "wR0PeUmua7ZC",
        "colab_type": "text"
      },
      "source": [
        "UniRep needs to receive data in the correct format, a (batch_size, max_seq_len) matrix with integer values, where the integers correspond to an amino acid label at that position, and the end of the sequence is padded with 0s until the max sequence length to form a non-ragged rectangular matrix. We provide a formatting function to translate a string of amino acids into a list of integers with the correct codex:"
      ]
    },
    {
      "cell_type": "code",
      "metadata": {
        "id": "ZrXCYLvLa7ZM",
        "colab_type": "code",
        "colab": {}
      },
      "source": [
        "seq = \"MRKGEELFTGVVPILVELDGDVNGHKFSVRGEGEGDATNGKLTLKFICTTGKLPVPWPTLVTTLTYGVQCFARYPDHMKQHDFFKSAMPEGYVQERTISFKDDGTYKTRAEVKFEGDTLVNRIELKGIDFKEDGNILGHKLEYNFNSHNVYITADKQKNGIKANFKIRHNVEDGSVQLADHYQQNTPIGDGPVLLPDNHYLSTQSVLSKDPNEKRDHMVLLEFVTAAGITHGMDELYK\""
      ],
      "execution_count": 0,
      "outputs": []
    },
    {
      "cell_type": "code",
      "metadata": {
        "id": "b_WY4lAja7ZX",
        "colab_type": "code",
        "outputId": "3f5d7179-528a-4180-bf64-33f81a8846d3",
        "colab": {}
      },
      "source": [
        "np.array(b.format_seq(seq))"
      ],
      "execution_count": 0,
      "outputs": [
        {
          "output_type": "execute_result",
          "data": {
            "text/plain": [
              "array([24,  1,  2,  4, 13,  6,  6, 21, 18,  8, 13, 16, 16, 14, 17, 21, 16,\n",
              "        6, 21,  5, 13,  5, 16,  9, 13,  3,  4, 18,  7, 16,  2, 13,  6, 13,\n",
              "        6, 13,  5, 15,  8,  9, 13,  4, 21,  8, 21,  4, 18, 17, 11,  8,  8,\n",
              "       13,  4, 21, 14, 16, 14, 20, 14,  8, 21, 16,  8,  8, 21,  8, 19, 13,\n",
              "       16, 10, 11, 18, 15,  2, 19, 14,  5,  3,  1,  4, 10,  3,  5, 18, 18,\n",
              "        4,  7, 15,  1, 14,  6, 13, 19, 16, 10,  6,  2,  8, 17,  7, 18,  4,\n",
              "        5,  5, 13,  8, 19,  4,  8,  2, 15,  6, 16,  4, 18,  6, 13,  5,  8,\n",
              "       21, 16,  9,  2, 17,  6, 21,  4, 13, 17,  5, 18,  4,  6,  5, 13,  9,\n",
              "       17, 21, 13,  3,  4, 21,  6, 19,  9, 18,  9,  7,  3,  9, 16, 19, 17,\n",
              "        8, 15,  5,  4, 10,  4,  9, 13, 17,  4, 15,  9, 18,  4, 17,  2,  3,\n",
              "        9, 16,  6,  5, 13,  7, 16, 10, 21, 15,  5,  3, 19, 10, 10,  9,  8,\n",
              "       14, 17, 13,  5, 13, 14, 16, 21, 21, 14,  5,  9,  3, 19, 21,  7,  8,\n",
              "       10,  7, 16, 21,  7,  4,  5, 14,  9,  6,  4,  2,  5,  3,  1, 16, 21,\n",
              "       21,  6, 18, 16,  8, 15, 15, 13, 17,  8,  3, 13,  1,  5,  6, 21, 19,\n",
              "        4])"
            ]
          },
          "metadata": {
            "tags": []
          },
          "execution_count": 5
        }
      ]
    },
    {
      "cell_type": "markdown",
      "metadata": {
        "id": "1Ohu5ct2a7Ze",
        "colab_type": "text"
      },
      "source": [
        "We also provide a function that will check your amino acid sequences don't contain any characters which will break the UniRep model."
      ]
    },
    {
      "cell_type": "code",
      "metadata": {
        "id": "c-HdicVaa7Zs",
        "colab_type": "code",
        "outputId": "7ab56007-8799-4193-bf5f-afe0e825aea3",
        "colab": {}
      },
      "source": [
        "b.is_valid_seq(seq)"
      ],
      "execution_count": 0,
      "outputs": [
        {
          "output_type": "execute_result",
          "data": {
            "text/plain": [
              "True"
            ]
          },
          "metadata": {
            "tags": []
          },
          "execution_count": 7
        }
      ]
    },
    {
      "cell_type": "code",
      "metadata": {
        "id": "vKgWRzWwOZnd",
        "colab_type": "code",
        "colab": {}
      },
      "source": [
        "rep = b.get_rep(seq)\n",
        "print(rep)\n",
        "print(tyle(rep))"
      ],
      "execution_count": 0,
      "outputs": []
    },
    {
      "cell_type": "code",
      "metadata": {
        "id": "oliLJORgNwCi",
        "colab_type": "code",
        "colab": {}
      },
      "source": [
        "b.get_babble(\"MRKGEEL\", length=290, temp=0.3)"
      ],
      "execution_count": 0,
      "outputs": []
    },
    {
      "cell_type": "code",
      "metadata": {
        "id": "zefLdj0fZr1T",
        "colab_type": "code",
        "colab": {}
      },
      "source": [
        "import pandas as pd\n",
        "import numpy as np\n",
        "from unirep import babbler64 as babbler\n",
        "\n",
        "\n",
        "def get_data(filename):\n",
        "\tdf_pet = pd.read_csv(filename)\n",
        "\tseqs = df_pet[\"aaSequence\"]\n",
        "\tvals = df_pet[\"medianBrightness\"]\n",
        "\tvals = vals.astype(np.float)\n",
        "\treturn seqs, vals\n",
        "\n",
        "\n",
        "# Turns each sequence into a np array\n",
        "def vectorize_data():\n",
        "\tseqs, vals = get_data(\"PETase_mutations_1.csv\")\n",
        "  seq_vecs = []\n",
        "  for seq in seqs:\n",
        "    seq_vecs.append(b.get_rep(seq))\n",
        "  seq_vecs = np.array(seq_vecs)\n",
        "  np.save(\"petase_seqvecs.npy\", seq_vecs)\n",
        "  np.save(\"petase_vals.npy\", vals)\n",
        "\n",
        "  seqs, vals = get_data(\"hydrolase.csv\")\n",
        "  seq_vecs = []\n",
        "  for seq in seqs:\n",
        "    seq_vecs.append(b.get_rep(seq))\n",
        "  seq_vecs = np.array(seq_vecs)\n",
        "  np.save(\"hydrolase_seqvecs.npy\", seq_vecs)\n",
        "  np.save(\"hydrolase_vals.npy\", vals)\n"
      ],
      "execution_count": 0,
      "outputs": []
    },
    {
      "cell_type": "markdown",
      "metadata": {
        "id": "cxx4Qv5AUNS1",
        "colab_type": "text"
      },
      "source": [
        "# Instability"
      ]
    },
    {
      "cell_type": "code",
      "metadata": {
        "id": "amVBw4hFUPAD",
        "colab_type": "code",
        "colab": {}
      },
      "source": [
        "AMINO_ACIDS = ['W', 'C', 'M', 'H', 'Y', 'F', 'Q', 'N', 'I', 'R', 'D', 'P', 'T',\n",
        "               'K', 'E', 'V', 'S', 'G', 'A', 'L']\n",
        "\n",
        "def construct_diwv():\n",
        "  diwv_dict = {}\n",
        "  matrix = []\n",
        "  with open(\"./diwv.csv\", \"r\") as f:\n",
        "    for line in f.readlines():\n",
        "      scores = line.split(\",\")\n",
        "      matrix.append([float(s) for s in scores])\n",
        "  for i in range(20):\n",
        "    subdict = {}\n",
        "    for j in range(20):\n",
        "      subdict[AMINO_ACIDS[j]] = matrix[i][j]\n",
        "    diwv_dict[AMINO_ACIDS[i]] = subdict\n",
        "  return diwv_dict\n",
        "  \n",
        "diwv_dict = construct_diwv()"
      ],
      "execution_count": 0,
      "outputs": []
    },
    {
      "cell_type": "markdown",
      "metadata": {
        "id": "Qjojn1PZQJWH",
        "colab_type": "text"
      },
      "source": [
        "# Karpathy RNN"
      ]
    },
    {
      "cell_type": "code",
      "metadata": {
        "id": "cEWLgYcWQGeA",
        "colab_type": "code",
        "colab": {}
      },
      "source": [
        "from oracles import oracle\n",
        "\n",
        "# Returns True iff protein sequence passes preset filters\n",
        "def passes_filters(seq, min_len=270, max_len=310,\n",
        "                   max_instability_index=40,\n",
        "                   max_conserved_residue_penalty=20,\n",
        "                   oracle_name='deepnn'):\n",
        "\n",
        "  # controls sequence length\n",
        "  if len(seq) <= 270 or len(seq) >= 310:\n",
        "    return False\n",
        "  \n",
        "  # controls sequence stability (ProtParam)\n",
        "  score = 0\n",
        "  for i in range(len(seq)-1):\n",
        "    score += diwv_dict[seq[i]][seq[i+1]]\n",
        "    score = 10.0/len(seq) * score\n",
        "  if score > 40.0:\n",
        "    return False\n",
        "\n",
        "  # ensures optimal sequence function using oracles\n",
        "  o = oracle\n",
        "  if o.predict(oracle_name, seq):\n",
        "    return True\n",
        "  return False"
      ],
      "execution_count": 0,
      "outputs": []
    },
    {
      "cell_type": "code",
      "metadata": {
        "id": "aQZay6IsVxPT",
        "colab_type": "code",
        "colab": {}
      },
      "source": [
        "from __future__ import absolute_import, division, print_function, unicode_literals\n",
        "\n",
        "try:\n",
        "  # %tensorflow_version only exists in Colab.\n",
        "  %tensorflow_version 2.x\n",
        "except Exception:\n",
        "  pass\n",
        "import tensorflow as tf\n",
        "\n",
        "import numpy as np\n",
        "import os\n",
        "import time\n",
        "\n",
        "def run_RNN(seq_length=100, BATCH_SIZE=64, BUFFER_SIZE=10000,\n",
        "            embedding_dim=256, rnn_units=1024, num_generate=300,\n",
        "            temperature=0.1, seed=u\"MNFPRASRLMQAAVL\",\n",
        "            path_to_file=\"./seqdump_processed.txt\"):\n",
        "  # Read, then decode for py2 compat.\n",
        "  text = open(path_to_file, 'rb').read().decode(encoding='utf-8')\n",
        "  # length of text is the number of characters in it\n",
        "  print ('Length of text: {} characters'.format(len(text)))\n",
        "\n",
        "  vocab = sorted(set(text))\n",
        "  print('{} unique characters'.format(len(vocab)))\n",
        "\n",
        "  char2idx = {c:i for i,c in enumerate(vocab)}\n",
        "  idx2char = np.array(vocab)\n",
        "\n",
        "  text_as_int = np.array([char2idx[c] for c in text])\n",
        "\n",
        "  print('{} ---map---> {}'.format(text[:13], text_as_int[:13]))\n",
        "\n",
        "  \n",
        "  examples_per_epoch = len(text) // seq_length\n",
        "\n",
        "  char_dataset = tf.data.Dataset.from_tensor_slices(text_as_int)\n",
        "\n",
        "  sequences = char_dataset.batch(seq_length+1, drop_remainder=True)\n",
        "\n",
        "  def split_input_target(chunk):\n",
        "    input_text = chunk[:-1]\n",
        "    target_text = chunk[1:]\n",
        "    return input_text, target_text\n",
        "\n",
        "  dataset = sequences.map(split_input_target)\n",
        "\n",
        "  for input_example, target_example in dataset.take(1):\n",
        "    print('Input: ', repr(''.join(idx2char[input_example.numpy()])))\n",
        "    print('Target: ', repr(''.join(idx2char[target_example.numpy()])))\n",
        "\n",
        "\n",
        "  dataset = dataset.shuffle(BUFFER_SIZE).batch(BATCH_SIZE, drop_remainder=True)\n",
        "  dataset\n",
        "\n",
        "  vocab_size = len(vocab)\n",
        "\n",
        "  def build_model(vocab_size, embedding_dim, rnn_units, batch_size):\n",
        "    model = tf.keras.Sequential([\n",
        "        tf.keras.layers.Embedding(vocab_size, embedding_dim, batch_input_shape=[batch_size, None]),\n",
        "        tf.keras.layers.LSTM(rnn_units, return_sequences=True, \n",
        "                             stateful=True, \n",
        "                             recurrent_initializer='glorot_uniform'),\n",
        "        tf.keras.layers.Dense(vocab_size)\n",
        "    ])\n",
        "    return model\n",
        "\n",
        "  model = build_model(\n",
        "      vocab_size = len(vocab),\n",
        "    embedding_dim=embedding_dim,\n",
        "    rnn_units=rnn_units,\n",
        "    batch_size=BATCH_SIZE\n",
        "  )\n",
        "\n",
        "  model.summary()\n",
        "\n",
        "#   for input_example_batch, target_example_batch in dataset.take(1):\n",
        "#     example_batch_predictions = model(input_example_batch)\n",
        "#     print(example_batch_predictions.shape, \"# (batch_size, sequence_length, vocab_size)\")\n",
        "\n",
        "#   sampled_indices = tf.random.categorical(example_batch_predictions[0], num_samples=1)\n",
        "#   sampled_indices = tf.squeeze(sampled_indices,axis=-1).numpy()\n",
        "\n",
        "#   print(\"Input: \\n\", repr(''.join(idx2char[input_example_batch[0]])))\n",
        "#   print(\"Output: \\n\", repr(''.join(idx2char[sampled_indices])))   # powerful np.array indexing ability\n",
        "\n",
        "  def loss(labels, logits):\n",
        "    return tf.keras.losses.sparse_categorical_crossentropy(labels, logits, from_logits=True)\n",
        "\n",
        "#   example_batch_loss = loss(target_example_batch, example_batch_predictions)\n",
        "#   print(\"Prediction shape: \", example_batch_loss.shape, \"# (batch_size, sequence_length)\")\n",
        "#   print(\"scalar_loss:      \", example_batch_loss.numpy().mean())\n",
        "\n",
        "  model.compile(optimizer='adam', loss=loss)\n",
        "\n",
        "  checkpoint_dir = './training_checkpoints'\n",
        "  checkpoint_prefix = os.path.join(checkpoint_dir, \"ckpt_{epoch}\")\n",
        "  checkpoint_callback=tf.keras.callbacks.ModelCheckpoint(\n",
        "      filepath=checkpoint_prefix,\n",
        "      save_weights_only=True)\n",
        "  EPOCHS=30\n",
        "\n",
        "\n",
        "  history = model.fit(dataset, epochs=EPOCHS, \n",
        "                      callbacks=[checkpoint_callback])\n",
        "\n",
        "  model = build_model(vocab_size, embedding_dim, rnn_units, batch_size=1)\n",
        "  model.load_weights(tf.train.latest_checkpoint(checkpoint_dir))\n",
        "  model.build(tf.TensorShape([1, None]))\n",
        "  model.summary()\n",
        "\n",
        "  def generate_text():\n",
        "    \n",
        "    input_eval = [char2idx[c] for c in seed]\n",
        "    input_eval = tf.expand_dims(input_eval, 0)\n",
        "\n",
        "    text_generated = []\n",
        "\n",
        "\n",
        "    model.reset_states()\n",
        "    for i in range(num_generate):\n",
        "      predictions = model(input_eval)\n",
        "\n",
        "      predictions = tf.squeeze(predictions, 0)\n",
        "\n",
        "      predictions = predictions / temperature\n",
        "      predicted_id = tf.random.categorical(predictions, num_samples=1)[-1,0].numpy()\n",
        "\n",
        "      input_eval = tf.expand_dims([predicted_id], 0)\n",
        "\n",
        "      text_generated.append(idx2char[predicted_id])\n",
        "\n",
        "    return (seed + ''.join(text_generated))\n",
        "  \n",
        "  valid_seqs = []\n",
        "  while len(valid_seqs) < 5:\n",
        "    blabble = generate_text()\n",
        "    seq = blabble.split(\"\\n\")[0]\n",
        "    if not passes_filters(seq.strip()):\n",
        "      continue\n",
        "    else:\n",
        "      valid_seqs.append(seq)\n",
        "      \n",
        "  return valid_seqs\n",
        "  "
      ],
      "execution_count": 0,
      "outputs": []
    },
    {
      "cell_type": "code",
      "metadata": {
        "id": "3ZU3E4oVV0pn",
        "colab_type": "code",
        "colab": {}
      },
      "source": [
        "def refresh_training_set(iter_num):\n",
        "  valid_seqs = run_RNN(iter_num)\n",
        "  \n",
        "  with open(\"seqdump_processed_\" + str(iter_num) + \".txt\", \"r\") as f:\n",
        "    with open(\"seqdump_processed_\" + str(iter_num+1) + \".txt\", \"w\") as g:\n",
        "      prev_seqs = f.readlines().strip()\n",
        "      new_seqs = prev_seqs + \"\\n\\n\"\n",
        "      for seq in valid_seqs:\n",
        "        new_seqs += seq + \"\\n\\n\"\n",
        "      g.write(new_seqs)\n",
        "\n",
        "for i in range(10):\n",
        "  refresh_training_set(i)"
      ],
      "execution_count": 0,
      "outputs": []
    },
    {
      "cell_type": "markdown",
      "metadata": {
        "id": "eFJe7cblQHQ8",
        "colab_type": "text"
      },
      "source": [
        "# Training"
      ]
    },
    {
      "cell_type": "markdown",
      "metadata": {
        "id": "RGFWZd2pa7Z1",
        "colab_type": "text"
      },
      "source": [
        "You could use your own data flow as long as you ensure that the data format is obeyed. Alternatively, you can use the data flow we've implemented for UniRep training, which happens in the tensorflow graph. It reads from a file of integer sequences, shuffles them around, collects them into groups of similar length (to minimize padding waste) and pads them to the max_length. Here's how to do that:"
      ]
    },
    {
      "cell_type": "markdown",
      "metadata": {
        "id": "6Z8YpNgca7Z4",
        "colab_type": "text"
      },
      "source": [
        "First, sequences need to be saved in the correct format. Suppose we have a new-line seperated file of amino acid sequences, `seqs.txt`, and we want to format them. Note that training is currently only publicly supported for amino acid sequences less than 275 amino acids as gradient updates for sequences longer than that start to get unwieldy. If you want to train on sequences longer than this, please reach out to us. \n",
        "\n",
        "Sequence formatting can be done as follows:"
      ]
    },
    {
      "cell_type": "code",
      "metadata": {
        "id": "GeOCG-Fha7Z6",
        "colab_type": "code",
        "colab": {}
      },
      "source": [
        "# Before you can train your model, \n",
        "with open(\"seqs.txt\", \"r\") as source:\n",
        "    with open(\"formatted.txt\", \"w\") as destination:\n",
        "        for i,seq in enumerate(source):\n",
        "            seq = seq.strip()\n",
        "            if b.is_valid_seq(seq) and len(seq) < 275: \n",
        "                formatted = \",\".join(map(str,b.format_seq(seq)))\n",
        "                destination.write(formatted)\n",
        "                destination.write('\\n')"
      ],
      "execution_count": 0,
      "outputs": []
    },
    {
      "cell_type": "markdown",
      "metadata": {
        "id": "9gpiq1fEa7aS",
        "colab_type": "text"
      },
      "source": [
        "This is what the integer format looks like"
      ]
    },
    {
      "cell_type": "code",
      "metadata": {
        "id": "Po0M7nO9a7aw",
        "colab_type": "code",
        "outputId": "b5dfa794-e589-4d6a-d16c-28ecaade1ddb",
        "colab": {}
      },
      "source": [
        "!head -n1 formatted.txt"
      ],
      "execution_count": 0,
      "outputs": [
        {
          "output_type": "stream",
          "text": [
            "24,1,2,4,13,6,6,21,18,8,13,16,16,14,17,21,16,6,21,5,13,5,16,9,13,3,4,18,7,16,2,13,6,13,6,13,5,15,8,9,13,4,21,8,21,4,18,17,11,8,8,13,4,21,14,16,14,20,14,8,21,16,8,8,21,8,19,13,16,10,11,18,15,2,19,14,5,3,1,4,10,3,5,18,18,4,7,15,1,14,6,13,19,16,10,6,2,8,17,7,18,4,5,5,13,8,19,4,8,2,15,6,16,4,18,6,13,5,8,21,16,9,2,17,6,21,4,13,17,5,18,4,6,5,13,9,17,21,13,3,4,21,6,19,9,18,9,7,3,9,16,19,17,8,15,5,4,10,4,9,13,17,4,15,9,18,4,17,2,3,9,16,6,5,13,7,16,10,21,15,5,3,19,10,10,9,8,14,17,13,5,13,14,16,21,21,14,5,9,3,19,21,7,8,10,7,16,21,7,4,5,14,9,6,4,2,5,3,1,16,21,21,6,18,16,8,15,15,13,17,8,3,13,1,5,6,21,19,4\r\n"
          ],
          "name": "stdout"
        }
      ]
    },
    {
      "cell_type": "markdown",
      "metadata": {
        "id": "onrt5SL3a7bI",
        "colab_type": "text"
      },
      "source": [
        "Notice that by default format_seq does not include the stop symbol (25) at the end of the sequence. This is the correct behavior if you are trying to train a top model, but not if you are training UniRep representations."
      ]
    },
    {
      "cell_type": "markdown",
      "metadata": {
        "id": "nARMIwfMa7bK",
        "colab_type": "text"
      },
      "source": [
        "Now we can use a custom function to bucket, batch and pad sequences from `formatted.txt` (which has the correct integer codex after calling `babbler.format_seq()`). The bucketing occurs in the graph. \n",
        "\n",
        "What is bucketing? Specify a lower and upper bound, and interval. All sequences less than lower or greater than upper will be batched together. The interval defines the \"sides\" of buckets between these bounds. Don't pick a small interval for a small dataset because the function will just repeat a sequence if there are not enough to\n",
        "fill a batch. All batches are the size you passed when initializing the babbler.\n",
        "\n",
        "This is also doing a few other things:\n",
        "- Shuffling the sequences by randomly sampling from a 10000 sequence buffer\n",
        "- Automatically padding the sequences with zeros so the returned batch is a perfect rectangle\n",
        "- Automatically repeating the dataset"
      ]
    },
    {
      "cell_type": "code",
      "metadata": {
        "id": "GKWvFzjNa7bL",
        "colab_type": "code",
        "colab": {}
      },
      "source": [
        "bucket_op = b.bucket_batch_pad(\"formatted.txt\", interval=1000) # Large interval"
      ],
      "execution_count": 0,
      "outputs": []
    },
    {
      "cell_type": "markdown",
      "metadata": {
        "id": "6Mqtufawa7bQ",
        "colab_type": "text"
      },
      "source": [
        "Inconveniently, this does not make it easy for a value to be associated with each sequence and not lost during shuffling. You can get around this by just prepending every integer sequence with the sequence label (eg, every sequence would be saved to the file as \"{brightness value}, 24, 1, 5,...\" and then you could just index out the first column after calling the `bucket_op`. Please reach out if you have questions on how to do this."
      ]
    },
    {
      "cell_type": "markdown",
      "metadata": {
        "id": "n-rdYAi0a7bS",
        "colab_type": "text"
      },
      "source": [
        "Now that we have the `bucket_op`, we can simply `sess.run()` it to get a correctly formatted batch"
      ]
    },
    {
      "cell_type": "code",
      "metadata": {
        "id": "F_q3lkLIa7be",
        "colab_type": "code",
        "outputId": "a61208dc-f4d3-4cbf-9ed3-e62e156f6a36",
        "colab": {}
      },
      "source": [
        "with tf.Session() as sess:\n",
        "    sess.run(tf.global_variables_initializer())\n",
        "    batch = sess.run(bucket_op)\n",
        "    \n",
        "print(batch)\n",
        "print(batch.shape)"
      ],
      "execution_count": 0,
      "outputs": [
        {
          "output_type": "stream",
          "text": [
            "[[24  1  6 ... 13 18  6]\n",
            " [24  1  7 ...  0  0  0]\n",
            " [24  1  7 ...  0  0  0]\n",
            " ...\n",
            " [24  1  4 ...  0  0  0]\n",
            " [24  1 10 ...  0  0  0]\n",
            " [24  1 13 ...  0  0  0]]\n",
            "(12, 265)\n"
          ],
          "name": "stdout"
        }
      ]
    },
    {
      "cell_type": "markdown",
      "metadata": {
        "id": "N6k8N1cAa7bm",
        "colab_type": "text"
      },
      "source": [
        "You can look back and see that the batch_size we passed to __init__ is indeed 12, and the second dimension must be the longest sequence included in this batch. Now we have the data flow setup (note that as long as your batch looks like this, you don't need my flow), so we can proceed to implementing the graph. The module returns all the operations needed to feed in sequence and get out trainable representations."
      ]
    },
    {
      "cell_type": "markdown",
      "metadata": {
        "id": "u_g-s2oja7bo",
        "colab_type": "text"
      },
      "source": [
        "## Training a top model and a top model + mLSTM."
      ]
    },
    {
      "cell_type": "markdown",
      "metadata": {
        "id": "rDkCK5eJa7bq",
        "colab_type": "text"
      },
      "source": [
        "First, obtain all of the ops needed to output a representation"
      ]
    },
    {
      "cell_type": "code",
      "metadata": {
        "id": "79Nk9Ceha7bs",
        "colab_type": "code",
        "colab": {}
      },
      "source": [
        "final_hidden, x_placeholder, batch_size_placeholder, seq_length_placeholder, initial_state_placeholder = (\n",
        "    b.get_rep_ops())"
      ],
      "execution_count": 0,
      "outputs": []
    },
    {
      "cell_type": "markdown",
      "metadata": {
        "id": "PTFU65-pa7ci",
        "colab_type": "text"
      },
      "source": [
        "`final_hidden` should be a batch_size x rep_dim matrix.\n",
        "\n",
        "Lets say we want to train a basic feed-forward network as the top model, doing regression with MSE loss, and the Adam optimizer. We can do that by:\n",
        "\n",
        "1.  Defining a loss function.\n",
        "\n",
        "2.  Defining an optimizer that's only optimizing variables in the top model.\n",
        "\n",
        "3.  Minimizing the loss inside of a TensorFlow session"
      ]
    },
    {
      "cell_type": "code",
      "metadata": {
        "id": "U9adkwyqa7ci",
        "colab_type": "code",
        "colab": {}
      },
      "source": [
        "y_placeholder = tf.placeholder(tf.float32, shape=[None,1], name=\"y\")\n",
        "initializer = tf.contrib.layers.xavier_initializer(uniform=False)\n",
        "\n",
        "with tf.variable_scope(\"top\"):\n",
        "    prediction = tf.contrib.layers.fully_connected(\n",
        "        final_hidden, 1, activation_fn=None, \n",
        "        weights_initializer=initializer,\n",
        "        biases_initializer=tf.zeros_initializer()\n",
        "    )\n",
        "\n",
        "loss = tf.losses.mean_squared_error(y_placeholder, prediction)"
      ],
      "execution_count": 0,
      "outputs": []
    },
    {
      "cell_type": "markdown",
      "metadata": {
        "id": "Q6s2wds1a7co",
        "colab_type": "text"
      },
      "source": [
        "You can specifically train the top model first by isolating variables of the \"top\" scope, and forcing the optimizer to only optimize these."
      ]
    },
    {
      "cell_type": "code",
      "metadata": {
        "id": "YNAQqPPca7dE",
        "colab_type": "code",
        "colab": {}
      },
      "source": [
        "learning_rate=.001\n",
        "top_variables = tf.get_collection(tf.GraphKeys.GLOBAL_VARIABLES, scope=\"top\")\n",
        "optimizer = tf.train.AdamOptimizer(learning_rate)\n",
        "top_only_step_op = optimizer.minimize(loss, var_list=top_variables)\n",
        "all_step_op = optimizer.minimize(loss)"
      ],
      "execution_count": 0,
      "outputs": []
    },
    {
      "cell_type": "markdown",
      "metadata": {
        "id": "YfSKUEFya7dJ",
        "colab_type": "text"
      },
      "source": [
        "We next need to define a function that allows us to calculate the length each sequence in the batch so that we know what index to use to obtain the right \"final\" hidden state"
      ]
    },
    {
      "cell_type": "code",
      "metadata": {
        "id": "0fAky6s4a7dR",
        "colab_type": "code",
        "outputId": "46390615-1465-407c-c456-9b646521007c",
        "colab": {}
      },
      "source": [
        "def nonpad_len(batch):\n",
        "    nonzero = batch > 0\n",
        "    lengths = np.sum(nonzero, axis=1)\n",
        "    return lengths\n",
        "\n",
        "nonpad_len(batch)"
      ],
      "execution_count": 0,
      "outputs": [
        {
          "output_type": "execute_result",
          "data": {
            "text/plain": [
              "array([265, 195, 239, 176, 230, 251,  97, 223, 148, 223, 248, 205])"
            ]
          },
          "metadata": {
            "tags": []
          },
          "execution_count": 15
        }
      ]
    },
    {
      "cell_type": "markdown",
      "metadata": {
        "id": "m-l-Qw1wa7e7",
        "colab_type": "text"
      },
      "source": [
        "We are ready to train. As an illustration, let's learn to predict the number 42 just optimizing the top model."
      ]
    },
    {
      "cell_type": "code",
      "metadata": {
        "id": "c29Cp3--a7e-",
        "colab_type": "code",
        "outputId": "c55e78b8-0957-403f-be3b-7833cf6341ba",
        "colab": {}
      },
      "source": [
        "y = [[42]]*batch_size\n",
        "num_iters = 10\n",
        "with tf.Session() as sess:\n",
        "    sess.run(tf.global_variables_initializer())\n",
        "    for i in range(num_iters):\n",
        "        batch = sess.run(bucket_op)\n",
        "        length = nonpad_len(batch)\n",
        "        loss_, __, = sess.run([loss, top_only_step_op],\n",
        "                feed_dict={\n",
        "                     x_placeholder: batch,\n",
        "                     y_placeholder: y,\n",
        "                     batch_size_placeholder: batch_size,\n",
        "                     seq_length_placeholder:length,\n",
        "                     initial_state_placeholder:b._zero_state\n",
        "                }\n",
        "        )\n",
        "                  \n",
        "        print(\"Iteration {0}: {1}\".format(i, loss_))"
      ],
      "execution_count": 0,
      "outputs": [
        {
          "output_type": "stream",
          "text": [
            "Iteration 0: 1757.400390625\n",
            "Iteration 1: 1763.5225830078125\n",
            "Iteration 2: 1736.2425537109375\n",
            "Iteration 3: 1744.5452880859375\n",
            "Iteration 4: 1726.3717041015625\n",
            "Iteration 5: 1711.666015625\n",
            "Iteration 6: 1719.5970458984375\n",
            "Iteration 7: 1693.2880859375\n",
            "Iteration 8: 1701.9228515625\n",
            "Iteration 9: 1683.3359375\n"
          ],
          "name": "stdout"
        }
      ]
    },
    {
      "cell_type": "markdown",
      "metadata": {
        "id": "dO5D_dUxa7fO",
        "colab_type": "text"
      },
      "source": [
        "We can also jointly train the top model and the mLSTM. Note that if using the 1900-unit (full) model, you will need a GPU with at least 16GB RAM. To see a demonstration of joint training with fewer computational resources, please run this notebook using the 64-unit model."
      ]
    },
    {
      "cell_type": "code",
      "metadata": {
        "id": "VIiC3PXUa7fQ",
        "colab_type": "code",
        "outputId": "b57f5181-2d56-43d4-dd27-b0f1dd40f626",
        "colab": {}
      },
      "source": [
        "y = [[42]]*batch_size\n",
        "num_iters = 10\n",
        "with tf.Session() as sess:\n",
        "    sess.run(tf.global_variables_initializer())\n",
        "    for i in range(num_iters):\n",
        "        batch = sess.run(bucket_op)\n",
        "        length = nonpad_len(batch)\n",
        "        loss_, __, = sess.run([loss, all_step_op],\n",
        "                feed_dict={\n",
        "                     x_placeholder: batch,\n",
        "                     y_placeholder: y,\n",
        "                     batch_size_placeholder: batch_size,\n",
        "                     seq_length_placeholder:length,\n",
        "                     initial_state_placeholder:b._zero_state\n",
        "                }\n",
        "        )\n",
        "        \n",
        "        print(\"Iteration {0}: {1}\".format(i,loss_))"
      ],
      "execution_count": 0,
      "outputs": [
        {
          "output_type": "stream",
          "text": [
            "Iteration 0: 1757.400390625\n",
            "Iteration 1: 1720.1832275390625\n",
            "Iteration 2: 1650.4283447265625\n",
            "Iteration 3: 1552.2196044921875\n",
            "Iteration 4: 1369.4599609375\n",
            "Iteration 5: 1174.6700439453125\n",
            "Iteration 6: 981.3558959960938\n",
            "Iteration 7: 798.6965942382812\n",
            "Iteration 8: 715.9775390625\n",
            "Iteration 9: 580.2219848632812\n"
          ],
          "name": "stdout"
        }
      ]
    }
  ]
}